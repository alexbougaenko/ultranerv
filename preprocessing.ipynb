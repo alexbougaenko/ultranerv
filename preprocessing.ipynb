{
 "cells": [
  {
   "cell_type": "code",
   "execution_count": 1,
   "metadata": {},
   "outputs": [],
   "source": [
    "from data_processing import transform_train_imgs_to_npy, transform_test_imgs_to_npy"
   ]
  },
  {
   "cell_type": "code",
   "execution_count": 2,
   "metadata": {},
   "outputs": [
    {
     "name": "stderr",
     "output_type": "stream",
     "text": [
      "/home/alex/.virtualenvs/ds3/lib/python3.6/site-packages/skimage/external/tifffile/tifffile.py:2611: RuntimeWarning: py_decodelzw encountered unexpected end of stream\n",
      "  strip = decompress(strip)\n"
     ]
    },
    {
     "name": "stdout",
     "output_type": "stream",
     "text": [
      "500 of 5635 images processed\n",
      "1000 of 5635 images processed\n",
      "1500 of 5635 images processed\n",
      "2000 of 5635 images processed\n",
      "2500 of 5635 images processed\n",
      "3000 of 5635 images processed\n",
      "3500 of 5635 images processed\n",
      "4000 of 5635 images processed\n",
      "4500 of 5635 images processed\n",
      "5000 of 5635 images processed\n",
      "5500 of 5635 images processed\n",
      "500 of 5508 images processed\n",
      "1000 of 5508 images processed\n",
      "1500 of 5508 images processed\n",
      "2000 of 5508 images processed\n",
      "2500 of 5508 images processed\n",
      "3000 of 5508 images processed\n",
      "3500 of 5508 images processed\n",
      "4000 of 5508 images processed\n",
      "4500 of 5508 images processed\n",
      "5000 of 5508 images processed\n",
      "5500 of 5508 images processed\n"
     ]
    }
   ],
   "source": [
    "transform_train_imgs_to_npy()\n",
    "transform_test_imgs_to_npy()"
   ]
  },
  {
   "cell_type": "code",
   "execution_count": null,
   "metadata": {},
   "outputs": [],
   "source": []
  }
 ],
 "metadata": {
  "kernelspec": {
   "display_name": "Python 3",
   "language": "python",
   "name": "python3"
  },
  "language_info": {
   "codemirror_mode": {
    "name": "ipython",
    "version": 3
   },
   "file_extension": ".py",
   "mimetype": "text/x-python",
   "name": "python",
   "nbconvert_exporter": "python",
   "pygments_lexer": "ipython3",
   "version": "3.6.7"
  }
 },
 "nbformat": 4,
 "nbformat_minor": 2
}
