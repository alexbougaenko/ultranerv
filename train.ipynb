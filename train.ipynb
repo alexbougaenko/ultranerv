{
 "cells": [
  {
   "cell_type": "code",
   "execution_count": 1,
   "metadata": {},
   "outputs": [
    {
     "name": "stderr",
     "output_type": "stream",
     "text": [
      "Using TensorFlow backend.\n"
     ]
    }
   ],
   "source": [
    "from model import create_unet\n",
    "from data_processing import resize_imgs, load_train_data, RESIZE_HEIGHT, RESIZE_WIDTH, add_dim"
   ]
  },
  {
   "cell_type": "markdown",
   "metadata": {},
   "source": [
    "Load and preprocess data"
   ]
  },
  {
   "cell_type": "code",
   "execution_count": 2,
   "metadata": {},
   "outputs": [],
   "source": [
    "X_train_raw, y_train_raw = load_train_data()"
   ]
  },
  {
   "cell_type": "code",
   "execution_count": 3,
   "metadata": {},
   "outputs": [
    {
     "name": "stderr",
     "output_type": "stream",
     "text": [
      "/home/alex/.virtualenvs/ds3/lib/python3.6/site-packages/skimage/transform/_warps.py:105: UserWarning: The default mode, 'constant', will be changed to 'reflect' in skimage 0.15.\n",
      "  warn(\"The default mode, 'constant', will be changed to 'reflect' in \"\n",
      "/home/alex/.virtualenvs/ds3/lib/python3.6/site-packages/skimage/transform/_warps.py:110: UserWarning: Anti-aliasing will be enabled by default in skimage 0.15 to avoid aliasing artifacts when down-sampling images.\n",
      "  warn(\"Anti-aliasing will be enabled by default in skimage 0.15 to \"\n"
     ]
    }
   ],
   "source": [
    "X_train = add_dim(resize_imgs(X_train_raw, RESIZE_HEIGHT, RESIZE_WIDTH)) / 128 - 1\n",
    "y_train = add_dim(resize_imgs(y_train_raw, RESIZE_HEIGHT, RESIZE_WIDTH)) / 255"
   ]
  },
  {
   "cell_type": "code",
   "execution_count": 4,
   "metadata": {},
   "outputs": [
    {
     "name": "stdout",
     "output_type": "stream",
     "text": [
      "-1.0 0.9921875\n",
      "0.0 1.0\n"
     ]
    }
   ],
   "source": [
    "print(X_train.min(), X_train.max())\n",
    "print(y_train.min(), y_train.max())"
   ]
  },
  {
   "cell_type": "markdown",
   "metadata": {},
   "source": [
    "Init and train ANN"
   ]
  },
  {
   "cell_type": "code",
   "execution_count": 5,
   "metadata": {},
   "outputs": [],
   "source": [
    "model = create_unet((RESIZE_HEIGHT, RESIZE_WIDTH, 1))"
   ]
  },
  {
   "cell_type": "code",
   "execution_count": 6,
   "metadata": {},
   "outputs": [
    {
     "name": "stdout",
     "output_type": "stream",
     "text": [
      "Train on 4508 samples, validate on 1127 samples\n",
      "Epoch 1/30\n",
      "4508/4508 [==============================] - 508s 113ms/step - loss: -0.0237 - dice_coef: 0.0237 - val_loss: -0.0245 - val_dice_coef: 0.0245\n",
      "Epoch 2/30\n",
      "4508/4508 [==============================] - 499s 111ms/step - loss: -0.0946 - dice_coef: 0.0946 - val_loss: -0.2213 - val_dice_coef: 0.2213\n",
      "Epoch 3/30\n",
      "4508/4508 [==============================] - 497s 110ms/step - loss: -0.2390 - dice_coef: 0.2390 - val_loss: -0.2441 - val_dice_coef: 0.2441\n",
      "Epoch 4/30\n",
      "4508/4508 [==============================] - 502s 111ms/step - loss: -0.2637 - dice_coef: 0.2637 - val_loss: -0.2770 - val_dice_coef: 0.2770\n",
      "Epoch 5/30\n",
      "4508/4508 [==============================] - 501s 111ms/step - loss: -0.2768 - dice_coef: 0.2768 - val_loss: -0.2534 - val_dice_coef: 0.2534\n",
      "Epoch 6/30\n",
      "4508/4508 [==============================] - 505s 112ms/step - loss: -0.2996 - dice_coef: 0.2996 - val_loss: -0.3280 - val_dice_coef: 0.3280\n",
      "Epoch 7/30\n",
      "4508/4508 [==============================] - 508s 113ms/step - loss: -0.3346 - dice_coef: 0.3346 - val_loss: -0.3134 - val_dice_coef: 0.3134\n",
      "Epoch 8/30\n",
      "4508/4508 [==============================] - 499s 111ms/step - loss: -0.3630 - dice_coef: 0.3630 - val_loss: -0.3883 - val_dice_coef: 0.3883\n",
      "Epoch 9/30\n",
      "4508/4508 [==============================] - 500s 111ms/step - loss: -0.3949 - dice_coef: 0.3949 - val_loss: -0.4210 - val_dice_coef: 0.4210\n",
      "Epoch 10/30\n",
      "4508/4508 [==============================] - 498s 111ms/step - loss: -0.4217 - dice_coef: 0.4217 - val_loss: -0.4457 - val_dice_coef: 0.4457\n",
      "Epoch 11/30\n",
      "4508/4508 [==============================] - 499s 111ms/step - loss: -0.4585 - dice_coef: 0.4585 - val_loss: -0.4759 - val_dice_coef: 0.4759\n",
      "Epoch 12/30\n",
      "4508/4508 [==============================] - 500s 111ms/step - loss: -0.4822 - dice_coef: 0.4822 - val_loss: -0.4882 - val_dice_coef: 0.4882\n",
      "Epoch 13/30\n",
      "4508/4508 [==============================] - 499s 111ms/step - loss: -0.5004 - dice_coef: 0.5004 - val_loss: -0.5078 - val_dice_coef: 0.5078\n",
      "Epoch 14/30\n",
      "4508/4508 [==============================] - 499s 111ms/step - loss: -0.5125 - dice_coef: 0.5125 - val_loss: -0.5174 - val_dice_coef: 0.5174\n",
      "Epoch 15/30\n",
      "4508/4508 [==============================] - 498s 110ms/step - loss: -0.5214 - dice_coef: 0.5214 - val_loss: -0.5246 - val_dice_coef: 0.5246\n",
      "Epoch 16/30\n",
      "4508/4508 [==============================] - 499s 111ms/step - loss: -0.5366 - dice_coef: 0.5366 - val_loss: -0.5354 - val_dice_coef: 0.5354\n",
      "Epoch 17/30\n",
      "4508/4508 [==============================] - 499s 111ms/step - loss: -0.5405 - dice_coef: 0.5405 - val_loss: -0.5360 - val_dice_coef: 0.5360\n",
      "Epoch 18/30\n",
      "4508/4508 [==============================] - 498s 111ms/step - loss: -0.5470 - dice_coef: 0.5470 - val_loss: -0.5437 - val_dice_coef: 0.5437\n",
      "Epoch 19/30\n",
      "4508/4508 [==============================] - 499s 111ms/step - loss: -0.5538 - dice_coef: 0.5538 - val_loss: -0.5517 - val_dice_coef: 0.5517\n",
      "Epoch 20/30\n",
      "4508/4508 [==============================] - 498s 110ms/step - loss: -0.5661 - dice_coef: 0.5661 - val_loss: -0.5503 - val_dice_coef: 0.5503\n",
      "Epoch 21/30\n",
      "4508/4508 [==============================] - 499s 111ms/step - loss: -0.5651 - dice_coef: 0.5651 - val_loss: -0.5565 - val_dice_coef: 0.5565\n",
      "Epoch 22/30\n",
      "4508/4508 [==============================] - 498s 110ms/step - loss: -0.5793 - dice_coef: 0.5793 - val_loss: -0.5645 - val_dice_coef: 0.5645\n",
      "Epoch 23/30\n",
      "4508/4508 [==============================] - 499s 111ms/step - loss: -0.5816 - dice_coef: 0.5816 - val_loss: -0.5569 - val_dice_coef: 0.5569\n",
      "Epoch 24/30\n",
      "4508/4508 [==============================] - 498s 110ms/step - loss: -0.5874 - dice_coef: 0.5874 - val_loss: -0.5689 - val_dice_coef: 0.5689\n",
      "Epoch 25/30\n",
      "4508/4508 [==============================] - 498s 110ms/step - loss: -0.5966 - dice_coef: 0.5966 - val_loss: -0.5629 - val_dice_coef: 0.5629\n",
      "Epoch 26/30\n",
      "4508/4508 [==============================] - 498s 111ms/step - loss: -0.5967 - dice_coef: 0.5967 - val_loss: -0.5586 - val_dice_coef: 0.5586\n",
      "Epoch 27/30\n",
      "4508/4508 [==============================] - 498s 110ms/step - loss: -0.6045 - dice_coef: 0.6045 - val_loss: -0.5735 - val_dice_coef: 0.5735\n",
      "Epoch 28/30\n",
      "4508/4508 [==============================] - 498s 110ms/step - loss: -0.6036 - dice_coef: 0.6036 - val_loss: -0.5652 - val_dice_coef: 0.5652\n",
      "Epoch 29/30\n",
      "4508/4508 [==============================] - 499s 111ms/step - loss: -0.6157 - dice_coef: 0.6157 - val_loss: -0.5821 - val_dice_coef: 0.5821\n",
      "Epoch 30/30\n",
      "4508/4508 [==============================] - 498s 110ms/step - loss: -0.6081 - dice_coef: 0.6081 - val_loss: -0.5887 - val_dice_coef: 0.5887\n"
     ]
    },
    {
     "data": {
      "text/plain": [
       "<keras.callbacks.History at 0x7fb02e379978>"
      ]
     },
     "execution_count": 6,
     "metadata": {},
     "output_type": "execute_result"
    }
   ],
   "source": [
    "model.fit(X_train, y_train, batch_size=32, epochs=30, \n",
    "          verbose=1, shuffle=True, validation_split=0.2)"
   ]
  },
  {
   "cell_type": "code",
   "execution_count": 9,
   "metadata": {},
   "outputs": [],
   "source": [
    "model_json = model.to_json()\n",
    "with open('models/unet.json', 'w') as file:\n",
    "    file.write(model_json)\n",
    "model.save_weights('models/weights.h5')"
   ]
  },
  {
   "cell_type": "code",
   "execution_count": 17,
   "metadata": {},
   "outputs": [],
   "source": []
  }
 ],
 "metadata": {
  "kernelspec": {
   "display_name": "Python 3",
   "language": "python",
   "name": "python3"
  },
  "language_info": {
   "codemirror_mode": {
    "name": "ipython",
    "version": 3
   },
   "file_extension": ".py",
   "mimetype": "text/x-python",
   "name": "python",
   "nbconvert_exporter": "python",
   "pygments_lexer": "ipython3",
   "version": "3.6.7"
  }
 },
 "nbformat": 4,
 "nbformat_minor": 2
}
